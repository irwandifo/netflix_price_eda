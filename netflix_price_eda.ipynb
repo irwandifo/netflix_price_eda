{
 "cells": [
  {
   "cell_type": "markdown",
   "id": "bee309d5",
   "metadata": {},
   "source": [
    "### Which countries paid the least for Netflix?"
   ]
  },
  {
   "cell_type": "markdown",
   "id": "10fe221c",
   "metadata": {},
   "source": [
    "The data that we use includes of library sizes and monthly costs of Netflix subscriptions around the world. Library sizes is total number of TV shows and movies available on Netflix in a country. Monthly costs of Netflix subscriptions categorized into three groups: Basic plan, Standard plan, and Premium plan.\n",
    "\n",
    "Data source: https://www.kaggle.com/prasertk/netflix-subscription-price-in-different-countries\n",
    "\n",
    "Last updated: 2022-01-15"
   ]
  },
  {
   "cell_type": "markdown",
   "id": "bd146240",
   "metadata": {},
   "source": [
    "#### Importing libraries"
   ]
  },
  {
   "cell_type": "code",
   "execution_count": 1,
   "id": "dce574fd",
   "metadata": {},
   "outputs": [],
   "source": [
    "import numpy as np\n",
    "import pandas as pd\n",
    "import seaborn as sns\n",
    "import matplotlib.pyplot as plt"
   ]
  },
  {
   "cell_type": "markdown",
   "id": "7e4f02fa",
   "metadata": {},
   "source": [
    "#### Reading data"
   ]
  },
  {
   "cell_type": "code",
   "execution_count": 2,
   "id": "08bc5aa2",
   "metadata": {},
   "outputs": [
    {
     "data": {
      "text/html": [
       "<div>\n",
       "<style scoped>\n",
       "    .dataframe tbody tr th:only-of-type {\n",
       "        vertical-align: middle;\n",
       "    }\n",
       "\n",
       "    .dataframe tbody tr th {\n",
       "        vertical-align: top;\n",
       "    }\n",
       "\n",
       "    .dataframe thead th {\n",
       "        text-align: right;\n",
       "    }\n",
       "</style>\n",
       "<table border=\"1\" class=\"dataframe\">\n",
       "  <thead>\n",
       "    <tr style=\"text-align: right;\">\n",
       "      <th></th>\n",
       "      <th>Country</th>\n",
       "      <th>Total Library Size</th>\n",
       "      <th>No. of TV Shows</th>\n",
       "      <th>No. of Movies</th>\n",
       "      <th>Cost Per Month - Basic ($)</th>\n",
       "      <th>Cost Per Month - Standard ($)</th>\n",
       "      <th>Cost Per Month - Premium ($)</th>\n",
       "    </tr>\n",
       "  </thead>\n",
       "  <tbody>\n",
       "    <tr>\n",
       "      <th>0</th>\n",
       "      <td>Argentina</td>\n",
       "      <td>4760</td>\n",
       "      <td>3154</td>\n",
       "      <td>1606</td>\n",
       "      <td>3.74</td>\n",
       "      <td>6.30</td>\n",
       "      <td>9.26</td>\n",
       "    </tr>\n",
       "    <tr>\n",
       "      <th>1</th>\n",
       "      <td>Austria</td>\n",
       "      <td>5640</td>\n",
       "      <td>3779</td>\n",
       "      <td>1861</td>\n",
       "      <td>9.03</td>\n",
       "      <td>14.67</td>\n",
       "      <td>20.32</td>\n",
       "    </tr>\n",
       "    <tr>\n",
       "      <th>2</th>\n",
       "      <td>Bolivia</td>\n",
       "      <td>4991</td>\n",
       "      <td>3155</td>\n",
       "      <td>1836</td>\n",
       "      <td>7.99</td>\n",
       "      <td>10.99</td>\n",
       "      <td>13.99</td>\n",
       "    </tr>\n",
       "    <tr>\n",
       "      <th>3</th>\n",
       "      <td>Bulgaria</td>\n",
       "      <td>6797</td>\n",
       "      <td>4819</td>\n",
       "      <td>1978</td>\n",
       "      <td>9.03</td>\n",
       "      <td>11.29</td>\n",
       "      <td>13.54</td>\n",
       "    </tr>\n",
       "    <tr>\n",
       "      <th>4</th>\n",
       "      <td>Chile</td>\n",
       "      <td>4994</td>\n",
       "      <td>3156</td>\n",
       "      <td>1838</td>\n",
       "      <td>7.07</td>\n",
       "      <td>9.91</td>\n",
       "      <td>12.74</td>\n",
       "    </tr>\n",
       "  </tbody>\n",
       "</table>\n",
       "</div>"
      ],
      "text/plain": [
       "     Country  Total Library Size  No. of TV Shows  No. of Movies  \\\n",
       "0  Argentina                4760             3154           1606   \n",
       "1    Austria                5640             3779           1861   \n",
       "2    Bolivia                4991             3155           1836   \n",
       "3   Bulgaria                6797             4819           1978   \n",
       "4      Chile                4994             3156           1838   \n",
       "\n",
       "   Cost Per Month - Basic ($)  Cost Per Month - Standard ($)  \\\n",
       "0                        3.74                           6.30   \n",
       "1                        9.03                          14.67   \n",
       "2                        7.99                          10.99   \n",
       "3                        9.03                          11.29   \n",
       "4                        7.07                           9.91   \n",
       "\n",
       "   Cost Per Month - Premium ($)  \n",
       "0                          9.26  \n",
       "1                         20.32  \n",
       "2                         13.99  \n",
       "3                         13.54  \n",
       "4                         12.74  "
      ]
     },
     "execution_count": 2,
     "metadata": {},
     "output_type": "execute_result"
    }
   ],
   "source": [
    "# read dataset\n",
    "netflix_price = pd.read_csv('netflix price in different countries.csv')\n",
    "\n",
    "# preview dataset\n",
    "netflix_price.head(5)"
   ]
  },
  {
   "cell_type": "markdown",
   "id": "35828b13",
   "metadata": {},
   "source": [
    "#### Checking Introductory Details About Data"
   ]
  },
  {
   "cell_type": "code",
   "execution_count": 3,
   "id": "3fbf190c",
   "metadata": {},
   "outputs": [
    {
     "name": "stdout",
     "output_type": "stream",
     "text": [
      "<class 'pandas.core.frame.DataFrame'>\n",
      "RangeIndex: 65 entries, 0 to 64\n",
      "Data columns (total 7 columns):\n",
      " #   Column                         Non-Null Count  Dtype  \n",
      "---  ------                         --------------  -----  \n",
      " 0   Country                        65 non-null     object \n",
      " 1   Total Library Size             65 non-null     int64  \n",
      " 2   No. of TV Shows                65 non-null     int64  \n",
      " 3   No. of Movies                  65 non-null     int64  \n",
      " 4   Cost Per Month - Basic ($)     65 non-null     float64\n",
      " 5   Cost Per Month - Standard ($)  65 non-null     float64\n",
      " 6   Cost Per Month - Premium ($)   65 non-null     float64\n",
      "dtypes: float64(3), int64(3), object(1)\n",
      "memory usage: 3.7+ KB\n"
     ]
    }
   ],
   "source": [
    "netflix_price.info()"
   ]
  },
  {
   "cell_type": "markdown",
   "id": "2a690501",
   "metadata": {},
   "source": [
    "This dataset consists of 65 rows and 7 columns with the proper data type. Fortunately, there are no missing values in this dataset. So we can move on to the next step."
   ]
  },
  {
   "cell_type": "markdown",
   "id": "e2d01952",
   "metadata": {},
   "source": [
    "#### Statistical Insight"
   ]
  },
  {
   "cell_type": "code",
   "execution_count": 67,
   "id": "a3ca6424",
   "metadata": {},
   "outputs": [
    {
     "data": {
      "text/html": [
       "<div>\n",
       "<style scoped>\n",
       "    .dataframe tbody tr th:only-of-type {\n",
       "        vertical-align: middle;\n",
       "    }\n",
       "\n",
       "    .dataframe tbody tr th {\n",
       "        vertical-align: top;\n",
       "    }\n",
       "\n",
       "    .dataframe thead th {\n",
       "        text-align: right;\n",
       "    }\n",
       "</style>\n",
       "<table border=\"1\" class=\"dataframe\">\n",
       "  <thead>\n",
       "    <tr style=\"text-align: right;\">\n",
       "      <th></th>\n",
       "      <th>Country</th>\n",
       "      <th>Total Library Size</th>\n",
       "      <th>No. of TV Shows</th>\n",
       "      <th>No. of Movies</th>\n",
       "      <th>basic</th>\n",
       "      <th>standard</th>\n",
       "      <th>premium</th>\n",
       "    </tr>\n",
       "  </thead>\n",
       "  <tbody>\n",
       "    <tr>\n",
       "      <th>count</th>\n",
       "      <td>65</td>\n",
       "      <td>65.000000</td>\n",
       "      <td>65.000000</td>\n",
       "      <td>65.000000</td>\n",
       "      <td>65.000000</td>\n",
       "      <td>65.000000</td>\n",
       "      <td>65.000000</td>\n",
       "    </tr>\n",
       "    <tr>\n",
       "      <th>unique</th>\n",
       "      <td>65</td>\n",
       "      <td>NaN</td>\n",
       "      <td>NaN</td>\n",
       "      <td>NaN</td>\n",
       "      <td>NaN</td>\n",
       "      <td>NaN</td>\n",
       "      <td>NaN</td>\n",
       "    </tr>\n",
       "    <tr>\n",
       "      <th>top</th>\n",
       "      <td>India</td>\n",
       "      <td>NaN</td>\n",
       "      <td>NaN</td>\n",
       "      <td>NaN</td>\n",
       "      <td>NaN</td>\n",
       "      <td>NaN</td>\n",
       "      <td>NaN</td>\n",
       "    </tr>\n",
       "    <tr>\n",
       "      <th>freq</th>\n",
       "      <td>1</td>\n",
       "      <td>NaN</td>\n",
       "      <td>NaN</td>\n",
       "      <td>NaN</td>\n",
       "      <td>NaN</td>\n",
       "      <td>NaN</td>\n",
       "      <td>NaN</td>\n",
       "    </tr>\n",
       "    <tr>\n",
       "      <th>mean</th>\n",
       "      <td>NaN</td>\n",
       "      <td>5314.415385</td>\n",
       "      <td>3518.953846</td>\n",
       "      <td>1795.461538</td>\n",
       "      <td>8.368462</td>\n",
       "      <td>11.990000</td>\n",
       "      <td>15.612923</td>\n",
       "    </tr>\n",
       "    <tr>\n",
       "      <th>std</th>\n",
       "      <td>NaN</td>\n",
       "      <td>980.322633</td>\n",
       "      <td>723.010556</td>\n",
       "      <td>327.279748</td>\n",
       "      <td>1.937819</td>\n",
       "      <td>2.863979</td>\n",
       "      <td>4.040672</td>\n",
       "    </tr>\n",
       "    <tr>\n",
       "      <th>min</th>\n",
       "      <td>NaN</td>\n",
       "      <td>2274.000000</td>\n",
       "      <td>1675.000000</td>\n",
       "      <td>373.000000</td>\n",
       "      <td>1.970000</td>\n",
       "      <td>3.000000</td>\n",
       "      <td>4.020000</td>\n",
       "    </tr>\n",
       "    <tr>\n",
       "      <th>25%</th>\n",
       "      <td>NaN</td>\n",
       "      <td>4948.000000</td>\n",
       "      <td>3154.000000</td>\n",
       "      <td>1628.000000</td>\n",
       "      <td>7.990000</td>\n",
       "      <td>10.710000</td>\n",
       "      <td>13.540000</td>\n",
       "    </tr>\n",
       "    <tr>\n",
       "      <th>50%</th>\n",
       "      <td>NaN</td>\n",
       "      <td>5195.000000</td>\n",
       "      <td>3512.000000</td>\n",
       "      <td>1841.000000</td>\n",
       "      <td>8.990000</td>\n",
       "      <td>11.490000</td>\n",
       "      <td>14.450000</td>\n",
       "    </tr>\n",
       "    <tr>\n",
       "      <th>75%</th>\n",
       "      <td>NaN</td>\n",
       "      <td>5952.000000</td>\n",
       "      <td>3832.000000</td>\n",
       "      <td>1980.000000</td>\n",
       "      <td>9.030000</td>\n",
       "      <td>13.540000</td>\n",
       "      <td>18.060000</td>\n",
       "    </tr>\n",
       "    <tr>\n",
       "      <th>max</th>\n",
       "      <td>NaN</td>\n",
       "      <td>7325.000000</td>\n",
       "      <td>5234.000000</td>\n",
       "      <td>2387.000000</td>\n",
       "      <td>12.880000</td>\n",
       "      <td>20.460000</td>\n",
       "      <td>26.960000</td>\n",
       "    </tr>\n",
       "  </tbody>\n",
       "</table>\n",
       "</div>"
      ],
      "text/plain": [
       "       Country  Total Library Size  No. of TV Shows  No. of Movies      basic  \\\n",
       "count       65           65.000000        65.000000      65.000000  65.000000   \n",
       "unique      65                 NaN              NaN            NaN        NaN   \n",
       "top      India                 NaN              NaN            NaN        NaN   \n",
       "freq         1                 NaN              NaN            NaN        NaN   \n",
       "mean       NaN         5314.415385      3518.953846    1795.461538   8.368462   \n",
       "std        NaN          980.322633       723.010556     327.279748   1.937819   \n",
       "min        NaN         2274.000000      1675.000000     373.000000   1.970000   \n",
       "25%        NaN         4948.000000      3154.000000    1628.000000   7.990000   \n",
       "50%        NaN         5195.000000      3512.000000    1841.000000   8.990000   \n",
       "75%        NaN         5952.000000      3832.000000    1980.000000   9.030000   \n",
       "max        NaN         7325.000000      5234.000000    2387.000000  12.880000   \n",
       "\n",
       "         standard    premium  \n",
       "count   65.000000  65.000000  \n",
       "unique        NaN        NaN  \n",
       "top           NaN        NaN  \n",
       "freq          NaN        NaN  \n",
       "mean    11.990000  15.612923  \n",
       "std      2.863979   4.040672  \n",
       "min      3.000000   4.020000  \n",
       "25%     10.710000  13.540000  \n",
       "50%     11.490000  14.450000  \n",
       "75%     13.540000  18.060000  \n",
       "max     20.460000  26.960000  "
      ]
     },
     "execution_count": 67,
     "metadata": {},
     "output_type": "execute_result"
    }
   ],
   "source": [
    "netflix_price.describe(include='all')"
   ]
  },
  {
   "cell_type": "markdown",
   "id": "d95e0888",
   "metadata": {},
   "source": [
    "#### Data Cleaning"
   ]
  },
  {
   "cell_type": "markdown",
   "id": "c345a3b9",
   "metadata": {},
   "source": [
    "Because there are no missing values in this dataset and the data types are correct, we just rename the monthly costs of Netflix subscriptions column to make it easier to use."
   ]
  },
  {
   "cell_type": "code",
   "execution_count": 47,
   "id": "f5d2c64a",
   "metadata": {},
   "outputs": [],
   "source": [
    "netflix_price.rename(columns={'Cost Per Month - Basic ($)': 'basic',\n",
    "                              'Cost Per Month - Standard ($)': 'standard',\n",
    "                              'Cost Per Month - Premium ($)': 'premium'},\n",
    "                     inplace=True)"
   ]
  },
  {
   "cell_type": "markdown",
   "id": "27432652",
   "metadata": {},
   "source": [
    "#### Data Visualization"
   ]
  },
  {
   "cell_type": "markdown",
   "id": "6be886bf",
   "metadata": {},
   "source": [
    "##### Top 10 countries with Cheapest Netflix prices"
   ]
  },
  {
   "cell_type": "code",
   "execution_count": 68,
   "id": "b3175305",
   "metadata": {},
   "outputs": [
    {
     "data": {
      "image/png": "[encoded data removed]",
      "text/plain": [
       "<Figure size 432x288 with 1 Axes>"
      ]
     },
     "metadata": {
      "needs_background": "light"
     },
     "output_type": "display_data"
    }
   ],
   "source": [
    "# sorting values\n",
    "bottom10 = netflix_price.sort_values('basic')[:10]\n",
    "\n",
    "# visualize top 10 countries with cheapest Netflix monthly basic plan\n",
    "plt.barh(y=bottom10.Country, width=bottom10.basic, color='green')\n",
    "plt.title('Top 10 Countries with Cheapest Netflix Monthly Basic Plan', fontsize=12)\n",
    "plt.xlabel('Monthly Basic Plan ($)', fontsize=10)\n",
    "plt.ylabel('')\n",
    "plt.show()"
   ]
  },
  {
   "cell_type": "code",
   "execution_count": 69,
   "id": "f40546a3",
   "metadata": {},
   "outputs": [
    {
     "data": {
      "image/png": "[encoded data removed]",
      "text/plain": [
       "<Figure size 432x288 with 1 Axes>"
      ]
     },
     "metadata": {
      "needs_background": "light"
     },
     "output_type": "display_data"
    }
   ],
   "source": [
    "# sorting values\n",
    "bottom10 = netflix_price.sort_values('standard')[:10]\n",
    "\n",
    "# visualize top 10 countries with cheapest Netflix monthly standard plan\n",
    "plt.barh(y=bottom10.Country, width=bottom10.standard, color='blue')\n",
    "plt.title('Top 10 Countries with Cheapest Netflix Monthly Standard Plan', fontsize=12)\n",
    "plt.xlabel('Monthly Standard Plan ($)', fontsize=10)\n",
    "plt.ylabel('')\n",
    "plt.show()"
   ]
  },
  {
   "cell_type": "code",
   "execution_count": 70,
   "id": "f67a8d6f",
   "metadata": {},
   "outputs": [
    {
     "data": {
      "image/png": "[encoded data removed]",
      "text/plain": [
       "<Figure size 432x288 with 1 Axes>"
      ]
     },
     "metadata": {
      "needs_background": "light"
     },
     "output_type": "display_data"
    }
   ],
   "source": [
    "# sorting values\n",
    "bottom10 = netflix_price.sort_values('premium')[:10]\n",
    "\n",
    "# visualize top 10 countries with cheapest Netflix monthly premium plan\n",
    "plt.barh(y=bottom10.Country, width=bottom10.premium, color='maroon')\n",
    "plt.title('Top 10 Countries with Cheapest Netflix Monthly Premium Plan', fontsize=12)\n",
    "plt.xlabel('Monthly Premium Plan ($)', fontsize=10)\n",
    "plt.ylabel('')\n",
    "plt.show()"
   ]
  }
 ],
 "metadata": {
  "kernelspec": {
   "display_name": "Python 3",
   "language": "python",
   "name": "python3"
  },
  "language_info": {
   "codemirror_mode": {
    "name": "ipython",
    "version": 3
   },
   "file_extension": ".py",
   "mimetype": "text/x-python",
   "name": "python",
   "nbconvert_exporter": "python",
   "pygments_lexer": "ipython3",
   "version": "3.8.8"
  }
 },
 "nbformat": 4,
 "nbformat_minor": 5
}
